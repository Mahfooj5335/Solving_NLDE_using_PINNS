{
  "cells": [
    {
      "cell_type": "markdown",
      "metadata": {
        "id": "Cwxf2qr695ga"
      },
      "source": [
        "# Solving Differential Equation using Normal neural Network\n",
        "# Differentail Equation : dy/dx = -2y with y(0)=1"
      ]
    },
    {
      "cell_type": "markdown",
      "metadata": {
        "id": "L4LGwofx7lZd"
      },
      "source": [
        "# Import required libraries\n"
      ]
    },
    {
      "cell_type": "code",
      "execution_count": 7,
      "metadata": {
        "id": "zb5_Sqta7GQc"
      },
      "outputs": [],
      "source": [
        "import torch\n",
        "import torch.nn as nn\n",
        "import matplotlib.pyplot as plt\n",
        "import numpy as np\n"
      ]
    },
    {
      "cell_type": "markdown",
      "metadata": {
        "id": "WoA7H-4r7o9M"
      },
      "source": [
        "# Define the neural network model\n"
      ]
    },
    {
      "cell_type": "code",
      "execution_count": 8,
      "metadata": {
        "id": "lc6i56ug7Ir0"
      },
      "outputs": [],
      "source": [
        "class NeuralNet(nn.Module):\n",
        "    def __init__(self):\n",
        "        super(NeuralNet, self).__init__()\n",
        "        self.hidden = nn.Sequential(\n",
        "            nn.Linear(1, 20),\n",
        "            nn.Tanh(),\n",
        "            nn.Linear(20, 20),\n",
        "            nn.Tanh(),\n",
        "            nn.Linear(20, 1)\n",
        "        )\n",
        "\n",
        "    def forward(self, x):\n",
        "        return self.hidden(x)\n"
      ]
    },
    {
      "cell_type": "markdown",
      "metadata": {
        "id": "jNBmZQb472DQ"
      },
      "source": [
        "# Defining the differential equation dy/dx = -2y\n"
      ]
    },
    {
      "cell_type": "code",
      "execution_count": 22,
      "metadata": {
        "id": "vtHQAhED7LYX"
      },
      "outputs": [],
      "source": [
        "def differential_equation(x, y_pred):\n",
        "    dy_dx = torch.autograd.grad(y_pred, x, grad_outputs=torch.ones_like(y_pred), create_graph=True)[0]\n",
        "    return dy_dx + 2 * y_pred\n"
      ]
    },
    {
      "cell_type": "markdown",
      "metadata": {
        "id": "4PvgWClh9VwY"
      },
      "source": [
        "# Trial solution to satisfy the initial condition: y(0) = 1\n"
      ]
    },
    {
      "cell_type": "code",
      "execution_count": 23,
      "metadata": {
        "id": "IsgXwMAE7MHN"
      },
      "outputs": [],
      "source": [
        "def trial_solution(x, net_out):\n",
        "    return 1 + x * net_out\n"
      ]
    },
    {
      "cell_type": "markdown",
      "metadata": {
        "id": "aaY0hhpU9fTC"
      },
      "source": [
        "# Generate training data in the domain [0, 2]\n"
      ]
    },
    {
      "cell_type": "code",
      "execution_count": 24,
      "metadata": {
        "id": "DHpjP-eY7Nkz"
      },
      "outputs": [],
      "source": [
        "x_train = torch.linspace(0, 2, 100).reshape(-1, 1)\n",
        "x_train.requires_grad = True\n"
      ]
    },
    {
      "cell_type": "markdown",
      "metadata": {
        "id": "Gg95nc-99i9i"
      },
      "source": [
        "# Initialize the model and optimizer\n"
      ]
    },
    {
      "cell_type": "code",
      "execution_count": 25,
      "metadata": {
        "id": "-x6XMbQ37QI5"
      },
      "outputs": [],
      "source": [
        " model = NeuralNet()\n",
        "optimizer = torch.optim.Adam(model.parameters(), lr=0.01)\n"
      ]
    },
    {
      "cell_type": "markdown",
      "metadata": {
        "id": "xC3I1uXH9oM7"
      },
      "source": [
        "# Initialising loop"
      ]
    },
    {
      "cell_type": "code",
      "execution_count": 26,
      "metadata": {
        "colab": {
          "base_uri": "https://localhost:8080/"
        },
        "id": "qgTJnxDU7TAE",
        "outputId": "e4c3d837-591d-4c6f-85a6-29ca1695af24"
      },
      "outputs": [
        {
          "name": "stdout",
          "output_type": "stream",
          "text": [
            "Epoch 0: Loss = 5.495941\n",
            "Epoch 500: Loss = 0.000265\n",
            "Epoch 1000: Loss = 0.000072\n",
            "Epoch 1500: Loss = 0.000036\n",
            "Epoch 2000: Loss = 0.000030\n",
            "Epoch 2500: Loss = 0.000025\n",
            "Epoch 3000: Loss = 0.000021\n",
            "Epoch 3500: Loss = 0.000016\n",
            "Epoch 4000: Loss = 0.000083\n",
            "Epoch 4500: Loss = 0.000007\n"
          ]
        }
      ],
      "source": [
        "epochs = 5000\n",
        "loss_fn = nn.MSELoss()\n",
        "\n",
        "for epoch in range(epochs):\n",
        "    optimizer.zero_grad()\n",
        "\n",
        "    net_out = model(x_train)\n",
        "    y_hat = trial_solution(x_train, net_out)\n",
        "\n",
        "    de_residual = differential_equation(x_train, y_hat)\n",
        "    loss = loss_fn(de_residual, torch.zeros_like(de_residual))\n",
        "\n",
        "    loss.backward()\n",
        "    optimizer.step()\n",
        "\n",
        "    if epoch % 500 == 0:\n",
        "        print(f\"Epoch {epoch}: Loss = {loss.item():.6f}\")\n"
      ]
    },
    {
      "cell_type": "markdown",
      "metadata": {
        "id": "CAPoUzld919u"
      },
      "source": [
        "# Plotting the result\n"
      ]
    },
    {
      "cell_type": "code",
      "execution_count": 27,
      "metadata": {
        "colab": {
          "base_uri": "https://localhost:8080/",
          "height": 472
        },
        "id": "3HkLXbaC7fj1",
        "outputId": "4a06ab34-f69e-45b2-f852-a4b549f45901"
      },
      "outputs": [
        {
          "data": {
            "image/png": "[encoded data removed]",
            "text/plain": [
              "<Figure size 640x480 with 1 Axes>"
            ]
          },
          "metadata": {},
          "output_type": "display_data"
        }
      ],
      "source": [
        "x_test = torch.linspace(0, 2, 100).reshape(-1, 1)\n",
        "with torch.no_grad():\n",
        "    y_nn = trial_solution(x_test, model(x_test))\n",
        "    y_true = torch.exp(-2 * x_test)\n",
        "\n",
        "plt.plot(x_test.numpy(), y_nn.numpy(), label=\"Neural Network Solution\")\n",
        "plt.plot(x_test.numpy(), y_true.numpy(), '--', label=\"Analytical Solution\")\n",
        "plt.xlabel(\"x\")\n",
        "plt.ylabel(\"y\")\n",
        "plt.legend()\n",
        "plt.title(\"Solving dy/dx = -2y with y(0)=1\")\n",
        "plt.grid(True)\n",
        "plt.show()\n"
      ]
    }
  ],
  "metadata": {
    "colab": {
      "provenance": []
    },
    "kernelspec": {
      "display_name": "Python 3",
      "name": "python3"
    },
    "language_info": {
      "name": "python"
    }
  },
  "nbformat": 4,
  "nbformat_minor": 0
}
